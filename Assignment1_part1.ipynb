{
 "cells": [
  {
   "cell_type": "code",
   "execution_count": null,
   "id": "c6abe960-f4d9-45bb-890c-e613a0ae8288",
   "metadata": {},
   "outputs": [],
   "source": [
    "def list_divide(numbers, divide=2):\n",
    "    count= sum(1 for number in bumbers if number % divide == 0)\n",
    "    return count \n",
    "class ListDivideException(Exception):\n",
    "    pass\n",
    "def list_test_divide():\n",
    "    try:\n",
    "        assert list_divide([1, 2, 3, 4, 5]) == 2\n",
    "        assert list_divide([2, 4, 6, 8, 10]) ==5\n",
    "        assert list_divide([30, 54, 63, 98, 100], divide=10) == 2\n",
    "        assert list_divide([]) == 0\n",
    "        assert list_divide([1, 2, 3, 4, 5], 1) == 5\n",
    "    except Assertionerror as e:\n",
    "        raise ListDivideException(e)\n",
    "    list_test_divide"
   ]
  }
 ],
 "metadata": {
  "kernelspec": {
   "display_name": "Python 3 (ipykernel)",
   "language": "python",
   "name": "python3"
  },
  "language_info": {
   "codemirror_mode": {
    "name": "ipython",
    "version": 3
   },
   "file_extension": ".py",
   "mimetype": "text/x-python",
   "name": "python",
   "nbconvert_exporter": "python",
   "pygments_lexer": "ipython3",
   "version": "3.12.4"
  }
 },
 "nbformat": 4,
 "nbformat_minor": 5
}
